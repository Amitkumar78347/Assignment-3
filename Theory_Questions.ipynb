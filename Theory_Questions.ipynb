{
  "nbformat": 4,
  "nbformat_minor": 0,
  "metadata": {
    "colab": {
      "provenance": [],
      "authorship_tag": "ABX9TyP7y97RGdyUaLA6dd9DaaMn",
      "include_colab_link": true
    },
    "kernelspec": {
      "name": "python3",
      "display_name": "Python 3"
    },
    "language_info": {
      "name": "python"
    }
  },
  "cells": [
    {
      "cell_type": "markdown",
      "metadata": {
        "id": "view-in-github",
        "colab_type": "text"
      },
      "source": [
        "<a href=\"https://colab.research.google.com/github/Amitkumar78347/Assignment-3/blob/main/Theory_Questions.ipynb\" target=\"_parent\"><img src=\"https://colab.research.google.com/assets/colab-badge.svg\" alt=\"Open In Colab\"/></a>"
      ]
    },
    {
      "cell_type": "code",
      "execution_count": null,
      "metadata": {
        "id": "HDQY-pjtw3YW"
      },
      "outputs": [],
      "source": []
    },
    {
      "cell_type": "markdown",
      "source": [
        "# Theory Questions:\n"
      ],
      "metadata": {
        "id": "XZkrGxV65HzR"
      }
    },
    {
      "cell_type": "markdown",
      "source": [
        "#1) What is the difference between a function and a method in Python?"
      ],
      "metadata": {
        "id": "IeslN3345oYQ"
      }
    },
    {
      "cell_type": "markdown",
      "source": [
        "**Function**\n",
        "\n",
        "\n",
        "A function is a block of reusable code that performs a specific task. It can be defined at the top level of a script or module, and it’s not bound to any object or class. Functions can be called independently."
      ],
      "metadata": {
        "id": "_kY6fOcf5y1g"
      }
    },
    {
      "cell_type": "code",
      "source": [
        "def add_numbers(a, b):\n",
        "    return a + b\n",
        "\n",
        "result = add_numbers(5, 3)\n",
        "print(result)  # Output: 8\n"
      ],
      "metadata": {
        "colab": {
          "base_uri": "https://localhost:8080/"
        },
        "id": "WJMZ_Rsr7D5_",
        "outputId": "ea20bf36-294c-488f-84e5-23bb79b3f4a8"
      },
      "execution_count": 1,
      "outputs": [
        {
          "output_type": "stream",
          "name": "stdout",
          "text": [
            "8\n"
          ]
        }
      ]
    },
    {
      "cell_type": "markdown",
      "source": [
        "In this example, **add_numbers** is a function that takes two parameters, adds them together, and returns the result. It’s defined at the top level and is not associated with any object or class."
      ],
      "metadata": {
        "id": "sVvx_Zof8TLr"
      }
    },
    {
      "cell_type": "markdown",
      "source": [
        "**Method**\n",
        "\n",
        "\n",
        "A method is similar to a function, but it is associated with an object or class. Methods are defined within a class and are called on instances of that class or on the class itself."
      ],
      "metadata": {
        "id": "B90SMMDc7SS-"
      }
    },
    {
      "cell_type": "code",
      "source": [
        "class Calculator:\n",
        "    def add(self, a, b):\n",
        "        return a + b\n",
        "\n",
        "calc = Calculator()\n",
        "result = calc.add(5, 3)\n",
        "print(result)  # Output: 8\n"
      ],
      "metadata": {
        "colab": {
          "base_uri": "https://localhost:8080/"
        },
        "id": "SEbiXUTy7a1z",
        "outputId": "a948f663-2c03-4444-b810-66ebbb56ac2f"
      },
      "execution_count": 2,
      "outputs": [
        {
          "output_type": "stream",
          "name": "stdout",
          "text": [
            "8\n"
          ]
        }
      ]
    },
    {
      "cell_type": "markdown",
      "source": [
        "Here, **add** is a method of the **Calculator** class. It operates on instances of Calculator (in this case, calc) and has access to the instance's data and other methods."
      ],
      "metadata": {
        "id": "HBULLtgE8kEW"
      }
    },
    {
      "cell_type": "markdown",
      "source": [
        "# 2) Explain the concept of function arguments and parameters in Python."
      ],
      "metadata": {
        "id": "O7O3_oZB7gdK"
      }
    },
    {
      "cell_type": "markdown",
      "source": [
        "**Parameters**\n",
        "\n",
        "\n",
        "Parameters are variables listed in a function's definition. They act as placeholders for the values that will be passed to the function. Parameters define what kind of data a function expects when it is called."
      ],
      "metadata": {
        "id": "WR405Ruw7z73"
      }
    },
    {
      "cell_type": "code",
      "source": [
        "def greet(name, age):\n",
        "    print(f\"Hello, {name}! You are {age} years old.\")\n"
      ],
      "metadata": {
        "id": "upSYAj5D8D0W"
      },
      "execution_count": 3,
      "outputs": []
    },
    {
      "cell_type": "markdown",
      "source": [
        "**In this example:**\n",
        "\n",
        "name and age are parameters of the greet function.\n",
        "They specify that the greet function expects two pieces of data: a name and an age."
      ],
      "metadata": {
        "id": "QvrYw7Wm8vcP"
      }
    },
    {
      "cell_type": "markdown",
      "source": [
        "**Arguments**\n",
        "\n",
        "Arguments are the actual values or expressions you pass to a function when you call it. These values replace the parameters in the function definition and are used within the function."
      ],
      "metadata": {
        "id": "R1HhPZKi8z6Y"
      }
    },
    {
      "cell_type": "code",
      "source": [
        "greet(\"Alice\", 30)\n"
      ],
      "metadata": {
        "colab": {
          "base_uri": "https://localhost:8080/"
        },
        "id": "CopcWNPw88cv",
        "outputId": "8947178e-3393-4739-e681-2c66cce6fc46"
      },
      "execution_count": 4,
      "outputs": [
        {
          "output_type": "stream",
          "name": "stdout",
          "text": [
            "Hello, Alice! You are 30 years old.\n"
          ]
        }
      ]
    },
    {
      "cell_type": "markdown",
      "source": [
        "In this call:\n",
        "\n",
        "\"Alice\" is an argument for the name parameter.\n",
        "30 is an argument for the age parameter."
      ],
      "metadata": {
        "id": "P8nG8h1b9HZH"
      }
    },
    {
      "cell_type": "markdown",
      "source": [
        "# 3) What are the different ways to define and call a function in Python?"
      ],
      "metadata": {
        "id": "7GrQOwLW9Z7H"
      }
    },
    {
      "cell_type": "markdown",
      "source": [
        "**Basic Function Definition and Call**\n",
        "\n",
        "The most common way to define and call a function is using the standard syntax."
      ],
      "metadata": {
        "id": "tQtUYW129dTf"
      }
    },
    {
      "cell_type": "code",
      "source": [
        "def greet(name):\n",
        "    print(f\"Hello, {name}!\")\n",
        "\n",
        "greet(\"Alice\")\n",
        "# Output: Hello, Alice!\n"
      ],
      "metadata": {
        "colab": {
          "base_uri": "https://localhost:8080/"
        },
        "id": "g4blESbO97YS",
        "outputId": "8a5b32c1-ce03-4f20-acfa-9f4d5486f0db"
      },
      "execution_count": 6,
      "outputs": [
        {
          "output_type": "stream",
          "name": "stdout",
          "text": [
            "Hello, Alice!\n"
          ]
        }
      ]
    },
    {
      "cell_type": "markdown",
      "source": [
        "**Function with Default Parameters**\n",
        "\n",
        "You can define functions with default parameter values, which allows you to call the function without providing arguments for those parameters."
      ],
      "metadata": {
        "id": "7MDDwdUc-SL_"
      }
    },
    {
      "cell_type": "code",
      "source": [
        "def greet(name=\"Guest\"):\n",
        "    print(f\"Hello, {name}!\")\n",
        "\n",
        "\n",
        "greet()          # Uses the default value\n",
        "# Output: Hello, Guest!\n",
        "\n",
        "greet(\"Bob\")     # Overrides the default value\n",
        "# Output: Hello, Bob!\n"
      ],
      "metadata": {
        "colab": {
          "base_uri": "https://localhost:8080/"
        },
        "id": "DiDoJiGG-WsD",
        "outputId": "211449e1-1e8d-4141-fc6d-fe9bc0817617"
      },
      "execution_count": 7,
      "outputs": [
        {
          "output_type": "stream",
          "name": "stdout",
          "text": [
            "Hello, Guest!\n",
            "Hello, Bob!\n"
          ]
        }
      ]
    },
    {
      "cell_type": "markdown",
      "source": [
        "** Lambda Functions**\n",
        "\n",
        "\n",
        "Lambda functions are small, anonymous functions defined using the lambda keyword. They are typically used for short, throwaway functions."
      ],
      "metadata": {
        "id": "VHdz4whI-h-Q"
      }
    },
    {
      "cell_type": "code",
      "source": [
        "square = lambda x: x * x\n",
        "\n",
        "print(square(4))\n",
        "# Output: 16\n"
      ],
      "metadata": {
        "colab": {
          "base_uri": "https://localhost:8080/"
        },
        "id": "pDdD_uvs-m2O",
        "outputId": "9c796a77-e493-4158-a5dc-8de92b5b74ce"
      },
      "execution_count": 8,
      "outputs": [
        {
          "output_type": "stream",
          "name": "stdout",
          "text": [
            "16\n"
          ]
        }
      ]
    },
    {
      "cell_type": "markdown",
      "source": [
        "**Function as a First-Class Object**\n",
        "\n",
        "Functions in Python are first-class objects, meaning they can be passed as arguments to other functions, returned from other functions, and assigned to variables."
      ],
      "metadata": {
        "id": "qGfx4Erv-uw5"
      }
    },
    {
      "cell_type": "code",
      "source": [
        "def apply_function(f, x):\n",
        "    return f(x)\n",
        "\n",
        "def double(n):\n",
        "    return n * 2\n",
        "\n",
        "result = apply_function(double, 5)\n",
        "print(result)\n",
        "# Output: 10\n"
      ],
      "metadata": {
        "colab": {
          "base_uri": "https://localhost:8080/"
        },
        "id": "ybm7PAoI-yGP",
        "outputId": "5f5fe23f-67b7-44df-a44b-95e8dee08669"
      },
      "execution_count": 9,
      "outputs": [
        {
          "output_type": "stream",
          "name": "stdout",
          "text": [
            "10\n"
          ]
        }
      ]
    },
    {
      "cell_type": "markdown",
      "source": [
        "**Nested Functions**\n",
        "\n",
        "Functions can be defined within other functions. These are called nested functions or inner functions."
      ],
      "metadata": {
        "id": "cjyRjhRd--93"
      }
    },
    {
      "cell_type": "code",
      "source": [
        "def outer_function(x):\n",
        "    def inner_function(y):\n",
        "        return y * 2\n",
        "    return inner_function(x) + 1\n",
        "\n",
        "\n",
        "print(outer_function(5))\n",
        "# Output: 11\n"
      ],
      "metadata": {
        "colab": {
          "base_uri": "https://localhost:8080/"
        },
        "id": "Aro1vB_n_CcA",
        "outputId": "57afb85f-7b3a-4729-fe8e-32484ef38862"
      },
      "execution_count": 10,
      "outputs": [
        {
          "output_type": "stream",
          "name": "stdout",
          "text": [
            "11\n"
          ]
        }
      ]
    },
    {
      "cell_type": "markdown",
      "source": [
        "# 4) What is the purpose of the `return` statement in a Python function?"
      ],
      "metadata": {
        "id": "-MaqAmvq_IHx"
      }
    },
    {
      "cell_type": "markdown",
      "source": [
        "The return statement in a Python function serves several important purposes:\n",
        "\n",
        "Provides Output: It allows the function to send a result back to the caller. This output can be used elsewhere in the program, making functions reusable and modular.\n",
        "\n",
        "\n",
        "Terminates Function Execution: When a return statement is executed, it ends the function's execution. Any code after the return statement in the function is not executed.\n",
        "\n",
        "\n",
        "Sends Data to the Caller: The value provided in the return statement becomes the result of the function call and can be assigned to variables or used directly."
      ],
      "metadata": {
        "id": "vM-r-9fK_Sz3"
      }
    },
    {
      "cell_type": "code",
      "source": [
        "def add_numbers(a, b):\n",
        "    result = a + b\n",
        "    return result\n",
        "\n",
        "\n",
        "sum = add_numbers(5, 3)\n",
        "print(sum)  # Output: 8\n"
      ],
      "metadata": {
        "colab": {
          "base_uri": "https://localhost:8080/"
        },
        "id": "bUOz-BQH_j1U",
        "outputId": "2472abc0-0d9d-46c7-d585-b9003b386fcf"
      },
      "execution_count": 11,
      "outputs": [
        {
          "output_type": "stream",
          "name": "stdout",
          "text": [
            "8\n"
          ]
        }
      ]
    },
    {
      "cell_type": "markdown",
      "source": [
        "# 5)  What are iterators in Python and how do they differ from iterables?"
      ],
      "metadata": {
        "id": "dWzMbKNc_tTD"
      }
    },
    {
      "cell_type": "markdown",
      "source": [
        "**Iterables**\n",
        "\n",
        "An iterable is any Python object that can return an iterator. This means the object can be iterated over (looped through) using a for loop or other iteration contexts. Common examples of iterables include lists, tuples, dictionaries, and sets.\n",
        "\n",
        "Key Feature: An iterable must implement the __iter__ method (or equivalently, the __getitem__ method in older Python versions)."
      ],
      "metadata": {
        "id": "QspzReUu_54-"
      }
    },
    {
      "cell_type": "code",
      "source": [
        "my_list = [1, 2, 3, 4]\n",
        "\n",
        "for item in my_list:\n",
        "    print(item)\n"
      ],
      "metadata": {
        "colab": {
          "base_uri": "https://localhost:8080/"
        },
        "id": "X9wZp7_OABa_",
        "outputId": "53fa8536-8743-44de-d214-9de716097ad7"
      },
      "execution_count": 12,
      "outputs": [
        {
          "output_type": "stream",
          "name": "stdout",
          "text": [
            "1\n",
            "2\n",
            "3\n",
            "4\n"
          ]
        }
      ]
    },
    {
      "cell_type": "markdown",
      "source": [
        "**Iterators**\n",
        "\n",
        "An iterator is an object that represents a stream of data. It must implement two methods:\n",
        "\n",
        "__iter__(): Returns the iterator object itself. This is required to be compatible with iterable protocols.\n",
        "\n",
        "__next__(): Returns the next item in the stream. If there are no more items, it should raise the StopIteration exception to signal that iteration is complete.\n",
        "\n",
        "Key Feature: An iterator keeps track of its current state and position within the iterable."
      ],
      "metadata": {
        "id": "0uOcU_0TALBU"
      }
    },
    {
      "cell_type": "code",
      "source": [
        "class MyIterator:\n",
        "    def __init__(self, start, end):\n",
        "        self.current = start\n",
        "        self.end = end\n",
        "\n",
        "    def __iter__(self):\n",
        "        return self\n",
        "\n",
        "    def __next__(self):\n",
        "        if self.current > self.end:\n",
        "            raise StopIteration\n",
        "        else:\n",
        "            self.current += 1\n",
        "            return self.current - 1\n",
        "\n",
        "# Using the iterator\n",
        "my_iter = MyIterator(1, 4)\n",
        "\n",
        "for value in my_iter:\n",
        "    print(value)\n"
      ],
      "metadata": {
        "colab": {
          "base_uri": "https://localhost:8080/"
        },
        "id": "OZXjW8RPAQnU",
        "outputId": "d4b30887-beb0-4100-e51f-c96ae9700324"
      },
      "execution_count": 13,
      "outputs": [
        {
          "output_type": "stream",
          "name": "stdout",
          "text": [
            "1\n",
            "2\n",
            "3\n",
            "4\n"
          ]
        }
      ]
    },
    {
      "cell_type": "markdown",
      "source": [
        "# 6) Explain the concept of generators in Python and how they are defined."
      ],
      "metadata": {
        "id": "BJ_47mn0AZ_v"
      }
    },
    {
      "cell_type": "markdown",
      "source": [
        "**Concept of Generators**\n",
        "\n",
        "\n",
        "\n",
        "A generator is a special type of iterator that is defined using functions but uses the yield keyword instead of return.\n",
        "When a generator function is called, it returns a generator object but does not execute the function body immediately. Instead, it starts executing the function when you iterate over the generator object."
      ],
      "metadata": {
        "id": "n1DtTgA3Aq8X"
      }
    },
    {
      "cell_type": "markdown",
      "source": [
        "**Defining a Generator**\n",
        "\n",
        "\n",
        "You define a generator function just like a regular function, but instead of using return, you use yield to produce values."
      ],
      "metadata": {
        "id": "MfWDJdDXA0v3"
      }
    },
    {
      "cell_type": "markdown",
      "source": [
        "**Example of a Generator:**"
      ],
      "metadata": {
        "id": "d8D2jaeoBBmB"
      }
    },
    {
      "cell_type": "code",
      "source": [
        "def count_up_to(max):\n",
        "    count = 1\n",
        "    while count <= max:\n",
        "        yield count\n",
        "        count += 1\n"
      ],
      "metadata": {
        "id": "7EKpOG3FA7kM"
      },
      "execution_count": 14,
      "outputs": []
    },
    {
      "cell_type": "markdown",
      "source": [
        "**Using the Generator:**"
      ],
      "metadata": {
        "id": "FqtRONeoBFSH"
      }
    },
    {
      "cell_type": "code",
      "source": [
        "counter = count_up_to(5)\n",
        "\n",
        "for number in counter:\n",
        "    print(number)\n"
      ],
      "metadata": {
        "id": "1-AFxyAaBHvp"
      },
      "execution_count": null,
      "outputs": []
    },
    {
      "cell_type": "markdown",
      "source": [
        "7) What are the advantages of using generators over regular functions?"
      ],
      "metadata": {
        "id": "LiUdrB00BMqH"
      }
    },
    {
      "cell_type": "markdown",
      "source": [
        "**Advantages of Generators**\n",
        "\n",
        "**Memory Efficiency:**\n",
        "\n",
        "Generators: Generate values on-the-fly and do not store the entire sequence in memory. This is ideal for working with large datasets or streams where storing all data at once would be impractical.\n",
        "Regular Functions: Typically require the entire dataset to be computed and stored in memory before processing.\n",
        "\n",
        "**Lazy Evaluation:**\n",
        "\n",
        "Generators: Use lazy evaluation, which means they only produce values as needed. This can lead to performance improvements and reduced memory usage because you only generate what you need when you need it.\n",
        "Regular Functions: Compute and return all values at once, which might be inefficient for large datasets.\n",
        "\n",
        "**State Retention:**\n",
        "\n",
        "Generators: Retain their state between yield calls, which allows them to resume where they left off. This makes it easier to work with sequences where the computation is complex or involves multiple steps.\n",
        "Regular Functions: Typically compute values in one go, which might not be suitable for cases where intermediate states need to be preserved.\n",
        "\n",
        "**Simplified Code:**\n",
        "\n",
        "Generators: Provide a cleaner and more intuitive way to implement iterators without manually handling the iterator protocol.\n",
        "Regular Functions: May require more complex code to implement custom iterators."
      ],
      "metadata": {
        "id": "yedDdczjBaYH"
      }
    },
    {
      "cell_type": "markdown",
      "source": [
        "**Regular Function Example:**"
      ],
      "metadata": {
        "id": "tIGZxWTRBoJd"
      }
    },
    {
      "cell_type": "code",
      "source": [
        "def generate_squares(n):\n",
        "    result = []\n",
        "    for i in range(n):\n",
        "        result.append(i * i)\n",
        "    return result\n",
        "\n",
        "squares = generate_squares(5)\n",
        "print(squares)  # Output: [0, 1, 4, 9, 16]\n"
      ],
      "metadata": {
        "colab": {
          "base_uri": "https://localhost:8080/"
        },
        "id": "0djGKShABqYc",
        "outputId": "836f0ba6-bb39-455c-b002-852a3636bebd"
      },
      "execution_count": 15,
      "outputs": [
        {
          "output_type": "stream",
          "name": "stdout",
          "text": [
            "[0, 1, 4, 9, 16]\n"
          ]
        }
      ]
    },
    {
      "cell_type": "markdown",
      "source": [
        "**Generator Example:**"
      ],
      "metadata": {
        "id": "LxJwl-c1BuV_"
      }
    },
    {
      "cell_type": "code",
      "source": [
        "def generate_squares(n):\n",
        "    for i in range(n):\n",
        "        yield i * i\n",
        "\n",
        "squares_gen = generate_squares(5)\n",
        "for square in squares_gen:\n",
        "    print(square)\n"
      ],
      "metadata": {
        "colab": {
          "base_uri": "https://localhost:8080/"
        },
        "id": "1c6hvk6RBwaI",
        "outputId": "df6bced2-b62d-4d81-dd9e-d8a2d7b1d676"
      },
      "execution_count": 16,
      "outputs": [
        {
          "output_type": "stream",
          "name": "stdout",
          "text": [
            "0\n",
            "1\n",
            "4\n",
            "9\n",
            "16\n"
          ]
        }
      ]
    },
    {
      "cell_type": "markdown",
      "source": [
        "# **8) What is a lambda function in Python and when is it typically used?**"
      ],
      "metadata": {
        "id": "qmBFPrfwB0Pn"
      }
    },
    {
      "cell_type": "markdown",
      "source": [
        "A lambda function in Python is a small, anonymous function defined using the lambda keyword. Lambda functions are used for creating small, one-off functions without needing to formally define them with a def statement. They are typically used when you need a short, throwaway function for a specific task.\n",
        "\n",
        "\n",
        "**When to Use Lambda Functions**\n",
        "\n",
        "Lambda functions are typically used in the following scenarios:\n",
        "\n",
        "Short-lived Functions: When you need a simple function for a short period of time and do not need to reuse it elsewhere.\n",
        "\n",
        "Functional Programming: Often used with higher-order functions like map(), filter(), and sorted(), where a small function is needed as an argument.\n",
        "\n",
        "Inline Definitions: When defining a function inline is more convenient than creating a separate named function."
      ],
      "metadata": {
        "id": "akUpAWfnCCRn"
      }
    },
    {
      "cell_type": "markdown",
      "source": [
        "**Sorting a List of Tuples**\n",
        "\n",
        "Suppose you have a list of tuples, where each tuple contains a name and an age, and you want to sort this list by age."
      ],
      "metadata": {
        "id": "t3S5bSAbCW9P"
      }
    },
    {
      "cell_type": "code",
      "source": [
        "# List of tuples\n",
        "people = [(\"Alice\", 30), (\"Bob\", 25), (\"Charlie\", 35)]\n",
        "\n",
        "# Sort the list by age using a lambda function as the key\n",
        "sorted_people = sorted(people, key=lambda person: person[1])\n",
        "\n",
        "print(sorted_people)\n"
      ],
      "metadata": {
        "colab": {
          "base_uri": "https://localhost:8080/"
        },
        "id": "KUdKdzXBCbW7",
        "outputId": "f4d23d8c-9512-40a3-fe88-09afbccfd3ef"
      },
      "execution_count": 17,
      "outputs": [
        {
          "output_type": "stream",
          "name": "stdout",
          "text": [
            "[('Bob', 25), ('Alice', 30), ('Charlie', 35)]\n"
          ]
        }
      ]
    },
    {
      "cell_type": "markdown",
      "source": [
        "# 9) Explain the purpose and usage of the `map()` function in Python."
      ],
      "metadata": {
        "id": "dfNHcGPHCftf"
      }
    },
    {
      "cell_type": "markdown",
      "source": [
        "The map() function in Python is a built-in function used to apply a given function to each item of an iterable (like a list or tuple) and return an iterator that yields the results. It’s useful for transforming or processing elements in a collection in a functional programming style."
      ],
      "metadata": {
        "id": "ovlRmuaXCqie"
      }
    },
    {
      "cell_type": "markdown",
      "source": [
        "Purpose of map()\n",
        "\n",
        "Transformation: map() allows you to apply a function to each element of an iterable, effectively transforming the data in the iterable according to the function's logic.\n",
        "\n",
        "Efficiency: It’s often more concise and can be more readable than using a loop to apply a transformation."
      ],
      "metadata": {
        "id": "KdgTjfNbCv2G"
      }
    },
    {
      "cell_type": "markdown",
      "source": [
        "**Example**\n",
        "Suppose you want to square each number in a list. You can use map() to achieve this concisely."
      ],
      "metadata": {
        "id": "K0bUumU8C3aw"
      }
    },
    {
      "cell_type": "code",
      "source": [
        "# Define a function to square a number\n",
        "def square(x):\n",
        "    return x * x\n",
        "\n",
        "# List of numbers\n",
        "numbers = [1, 2, 3, 4, 5]\n",
        "\n",
        "# Use map to apply the square function to each item in the numbers list\n",
        "squared_numbers = map(square, numbers)\n",
        "\n",
        "# Convert the map object to a list and print it\n",
        "print(list(squared_numbers))\n"
      ],
      "metadata": {
        "colab": {
          "base_uri": "https://localhost:8080/"
        },
        "id": "112MIumNC6Ek",
        "outputId": "a7adc9d9-e352-4e05-c8cf-d3f45eb68368"
      },
      "execution_count": 18,
      "outputs": [
        {
          "output_type": "stream",
          "name": "stdout",
          "text": [
            "[1, 4, 9, 16, 25]\n"
          ]
        }
      ]
    },
    {
      "cell_type": "markdown",
      "source": [
        "# **10) What is the difference between `map()`, `reduce()`, and `filter()` functions in Python?**"
      ],
      "metadata": {
        "id": "d02LDzA6C_oH"
      }
    },
    {
      "cell_type": "markdown",
      "source": [
        "**map()**\n",
        "\n",
        "Purpose: Applies a given function to each item of an iterable (or iterables) and returns an iterator yielding the results.\n",
        "\n",
        "Usage: Use map() when you want to transform each item in an iterable based on a function."
      ],
      "metadata": {
        "id": "4Et03mwSDL6W"
      }
    },
    {
      "cell_type": "code",
      "source": [
        "# Define a function to double a number\n",
        "def double(x):\n",
        "    return x * 2\n",
        "\n",
        "# List of numbers\n",
        "numbers = [1, 2, 3, 4]\n",
        "\n",
        "# Use map to apply the double function to each item\n",
        "doubled_numbers = map(double, numbers)\n",
        "\n",
        "print(list(doubled_numbers))\n"
      ],
      "metadata": {
        "colab": {
          "base_uri": "https://localhost:8080/"
        },
        "id": "iXo6rjYMDPM3",
        "outputId": "d2e201b9-80d5-4bd8-b828-5535869e6e53"
      },
      "execution_count": 19,
      "outputs": [
        {
          "output_type": "stream",
          "name": "stdout",
          "text": [
            "[2, 4, 6, 8]\n"
          ]
        }
      ]
    },
    {
      "cell_type": "markdown",
      "source": [
        "**reduce()**"
      ],
      "metadata": {
        "id": "-IhnTcBNDS6-"
      }
    },
    {
      "cell_type": "markdown",
      "source": [
        "Purpose: Applies a binary function (a function that takes two arguments) cumulatively to the items of an iterable, reducing the iterable to a single accumulated result.\n",
        "\n",
        "Usage: Use reduce() when you need to perform a cumulative operation, like summing or multiplying all items in an iterable."
      ],
      "metadata": {
        "id": "2u9hTXb7DWeO"
      }
    },
    {
      "cell_type": "code",
      "source": [
        "from functools import reduce\n",
        "\n",
        "# Define a function to add two numbers\n",
        "def add(x, y):\n",
        "    return x + y\n",
        "\n",
        "# List of numbers\n",
        "numbers = [1, 2, 3, 4]\n",
        "\n",
        "# Use reduce to apply the add function cumulatively\n",
        "sum_result = reduce(add, numbers)\n",
        "\n",
        "print(sum_result)\n",
        "\n"
      ],
      "metadata": {
        "colab": {
          "base_uri": "https://localhost:8080/"
        },
        "id": "1eapwATLDY12",
        "outputId": "ab8bfad6-37ae-4d0c-d17c-ed76d43b3a63"
      },
      "execution_count": 20,
      "outputs": [
        {
          "output_type": "stream",
          "name": "stdout",
          "text": [
            "10\n"
          ]
        }
      ]
    },
    {
      "cell_type": "markdown",
      "source": [
        "**filter()**\n",
        "\n",
        "Purpose: Filters items of an iterable based on a function that returns True or False, returning an iterator of items for which the function returned True.\n",
        "\n",
        "Usage: Use filter() when you need to select items from an iterable based on a condition."
      ],
      "metadata": {
        "id": "imQ8c208DesO"
      }
    },
    {
      "cell_type": "code",
      "source": [
        "# Define a function to check if a number is even\n",
        "def is_even(x):\n",
        "    return x % 2 == 0\n",
        "\n",
        "# List of numbers\n",
        "numbers = [1, 2, 3, 4]\n",
        "\n",
        "# Use filter to apply the is_even function to each item\n",
        "even_numbers = filter(is_even, numbers)\n",
        "\n",
        "print(list(even_numbers))\n"
      ],
      "metadata": {
        "colab": {
          "base_uri": "https://localhost:8080/"
        },
        "id": "zj6viborDhlG",
        "outputId": "5296bfc9-d28e-48fd-9e27-9abf1cda0c3c"
      },
      "execution_count": 21,
      "outputs": [
        {
          "output_type": "stream",
          "name": "stdout",
          "text": [
            "[2, 4]\n"
          ]
        }
      ]
    },
    {
      "cell_type": "markdown",
      "source": [
        "# 11)  Using pen & Paper write the internal mechanism for sum operation using  reduce function on this given\n",
        "list:[47,11,42,13];"
      ],
      "metadata": {
        "id": "cGKqOJwUDl8I"
      }
    },
    {
      "cell_type": "markdown",
      "source": [
        "Initial State:\n",
        "\n",
        "accumulated = 47 (This is the first element, and it will be the starting point since no initial value is provided.)\n",
        "First Iteration:\n",
        "\n",
        "Take the next element, 11.\n",
        "Apply the function: 47 + 11 = 58.\n",
        "Update accumulated to 58.\n",
        "Second Iteration:\n",
        "\n",
        "Take the next element, 42.\n",
        "Apply the function: 58 + 42 = 100.\n",
        "Update accumulated to 100.\n",
        "Third Iteration:\n",
        "\n",
        "Take the next element, 13.\n",
        "Apply the function: 100 + 13 = 113.\n",
        "Update accumulated to 113.\n",
        "Final Result:\n",
        "\n",
        "After processing all elements, the final value of accumulated is 113."
      ],
      "metadata": {
        "id": "qgwSKy90Eh1X"
      }
    }
  ]
}